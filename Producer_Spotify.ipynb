{
 "cells": [
  {
   "cell_type": "code",
   "execution_count": 1,
   "metadata": {},
   "outputs": [],
   "source": [
    "from confluent_kafka import Producer\n",
    "from pyspark.sql.types import *\n",
    "from pyspark.sql import Row\n",
    "from pyspark.sql import SparkSession\n",
    "from pyspark import SparkContext\n",
    "from time import sleep"
   ]
  },
  {
   "cell_type": "code",
   "execution_count": 2,
   "metadata": {},
   "outputs": [],
   "source": [
    "spark = SparkSession.builder.master(\"local[4]\").getOrCreate()\n",
    "spark.conf.set('spark.sql.repl.eagerEval.enabled', True)"
   ]
  },
  {
   "cell_type": "code",
   "execution_count": 3,
   "metadata": {},
   "outputs": [],
   "source": [
    "schema = StructType([StructField('track_uri', StringType(), False),StructField('track_name', StringType(), False)])\n",
    "user_data = spark.read.format(\"csv\").schema(schema).load(\"DataToStream.csv\")\n",
    "user_data_collection = user_data.rdd.collect()"
   ]
  },
  {
   "cell_type": "code",
   "execution_count": 15,
   "metadata": {},
   "outputs": [],
   "source": [
    "p = Producer({'bootstrap.servers': 'localhost:9092'})"
   ]
  },
  {
   "cell_type": "code",
   "execution_count": 16,
   "metadata": {},
   "outputs": [],
   "source": [
    "batch_size = 0\n",
    "batch_id = 1\n",
    "for row in user_data_collection:\n",
    "    if row is None: \n",
    "        print(\"No track\")\n",
    "        continue\n",
    "    if batch_size < 10:    \n",
    "        batch_size += 1\n",
    "        msg = \" \".join([row.track_uri,\",\",row.track_name])\n",
    "        p.produce(\"spotify-recommend_v1\", key = str(batch_id), value = msg)\n",
    "    else:\n",
    "        batch_size = 0\n",
    "        batch_id += 1\n",
    "        sleep(0.5)\n",
    "        \n",
    "msg = \" \".join(\"stop\")        \n",
    "p.produce(\"spotify-recommend1\", key = str('0'), value = msg)"
   ]
  },
  {
   "cell_type": "code",
   "execution_count": null,
   "metadata": {},
   "outputs": [],
   "source": []
  }
 ],
 "metadata": {
  "kernelspec": {
   "display_name": "Python 3",
   "language": "python",
   "name": "python3"
  },
  "language_info": {
   "codemirror_mode": {
    "name": "ipython",
    "version": 3
   },
   "file_extension": ".py",
   "mimetype": "text/x-python",
   "name": "python",
   "nbconvert_exporter": "python",
   "pygments_lexer": "ipython3",
   "version": "3.7.3"
  }
 },
 "nbformat": 4,
 "nbformat_minor": 4
}
