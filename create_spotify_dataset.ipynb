{
 "cells": [
  {
   "cell_type": "code",
   "execution_count": 119,
   "metadata": {},
   "outputs": [],
   "source": [
    "import os\n",
    "import json\n",
    "import pandas as pd\n",
    "import requests\n",
    "\n",
    "import pyspark\n",
    "from pyspark.sql.types import *\n",
    "from pyspark.sql import SparkSession, Row\n",
    "\n",
    "ss = SparkSession.builder.master(\"local[4]\") \\\n",
    "                    .appName('CreateDataset') \\\n",
    "                    .getOrCreate()\n"
   ]
  },
  {
   "cell_type": "markdown",
   "metadata": {},
   "source": [
    "# Helper functions"
   ]
  },
  {
   "cell_type": "code",
   "execution_count": 114,
   "metadata": {},
   "outputs": [],
   "source": [
    "def get_audio_features_spotifyApi(track_uri):\n",
    "    keys_to_remove = ['key','mode','type','track_href','analysis_url','time_signature','id', 'duration_ms']\n",
    "\n",
    "    track_features = sp.audio_features(track_uri)\n",
    "    track_features = track_features[0]\n",
    "    print(track_features)\n",
    "    for key in keys_to_remove:\n",
    "        del track_features[key]\n",
    "        \n",
    "    popularity = sp.track(track_uri)['popularity']\n",
    "    track_features['popularity'] = popularity       \n",
    "    return track_features\n"
   ]
  },
  {
   "cell_type": "code",
   "execution_count": 9,
   "metadata": {},
   "outputs": [],
   "source": [
    "PATH = '/home/afeka/Desktop/spotify_dataset/mpd.slice.13000-13999.json'"
   ]
  },
  {
   "cell_type": "code",
   "execution_count": 98,
   "metadata": {},
   "outputs": [],
   "source": [
    "import spotipy\n",
    "from spotipy.oauth2 import SpotifyClientCredentials\n",
    "SPOTIPY_CLIENT_ID='ff464bf1719f4878a4c6b078329878fb'\n",
    "SPOTIPY_CLIENT_SECRET='ccd5c137ece94d78b801a283b50f0340'\n",
    "auth_manager = SpotifyClientCredentials(client_id=SPOTIPY_CLIENT_ID,client_secret=SPOTIPY_CLIENT_SECRET)\n",
    "sp = spotipy.Spotify(auth_manager=auth_manager)"
   ]
  },
  {
   "cell_type": "code",
   "execution_count": 99,
   "metadata": {},
   "outputs": [],
   "source": [
    "DF = pd.DataFrame()\n",
    "data = json.load(open(PATH))\n",
    "DF = pd.concat([DF,pd.DataFrame.from_dict(data['playlists'])])"
   ]
  },
  {
   "cell_type": "code",
   "execution_count": 61,
   "metadata": {},
   "outputs": [],
   "source": [
    "DF.drop([column for column in DF.columns if column != 'tracks'], axis=1, inplace=True)"
   ]
  },
  {
   "cell_type": "code",
   "execution_count": 62,
   "metadata": {},
   "outputs": [
    {
     "data": {
      "text/html": [
       "<div>\n",
       "<style scoped>\n",
       "    .dataframe tbody tr th:only-of-type {\n",
       "        vertical-align: middle;\n",
       "    }\n",
       "\n",
       "    .dataframe tbody tr th {\n",
       "        vertical-align: top;\n",
       "    }\n",
       "\n",
       "    .dataframe thead th {\n",
       "        text-align: right;\n",
       "    }\n",
       "</style>\n",
       "<table border=\"1\" class=\"dataframe\">\n",
       "  <thead>\n",
       "    <tr style=\"text-align: right;\">\n",
       "      <th></th>\n",
       "      <th>tracks</th>\n",
       "    </tr>\n",
       "  </thead>\n",
       "  <tbody>\n",
       "    <tr>\n",
       "      <th>0</th>\n",
       "      <td>[{'pos': 0, 'artist_name': 'Bob Marley &amp; The W...</td>\n",
       "    </tr>\n",
       "    <tr>\n",
       "      <th>1</th>\n",
       "      <td>[{'pos': 0, 'artist_name': 'Alice Boman', 'tra...</td>\n",
       "    </tr>\n",
       "    <tr>\n",
       "      <th>2</th>\n",
       "      <td>[{'pos': 0, 'artist_name': 'Sleeping With Sire...</td>\n",
       "    </tr>\n",
       "    <tr>\n",
       "      <th>3</th>\n",
       "      <td>[{'pos': 0, 'artist_name': 'Unk', 'track_uri':...</td>\n",
       "    </tr>\n",
       "    <tr>\n",
       "      <th>4</th>\n",
       "      <td>[{'pos': 0, 'artist_name': 'Sean Kingston', 't...</td>\n",
       "    </tr>\n",
       "    <tr>\n",
       "      <th>...</th>\n",
       "      <td>...</td>\n",
       "    </tr>\n",
       "    <tr>\n",
       "      <th>995</th>\n",
       "      <td>[{'pos': 0, 'artist_name': 'Chris Tomlin', 'tr...</td>\n",
       "    </tr>\n",
       "    <tr>\n",
       "      <th>996</th>\n",
       "      <td>[{'pos': 0, 'artist_name': 'John Mayer', 'trac...</td>\n",
       "    </tr>\n",
       "    <tr>\n",
       "      <th>997</th>\n",
       "      <td>[{'pos': 0, 'artist_name': 'The All-American R...</td>\n",
       "    </tr>\n",
       "    <tr>\n",
       "      <th>998</th>\n",
       "      <td>[{'pos': 0, 'artist_name': 'Bon Iver', 'track_...</td>\n",
       "    </tr>\n",
       "    <tr>\n",
       "      <th>999</th>\n",
       "      <td>[{'pos': 0, 'artist_name': 'Hillsong United', ...</td>\n",
       "    </tr>\n",
       "  </tbody>\n",
       "</table>\n",
       "<p>1000 rows × 1 columns</p>\n",
       "</div>"
      ],
      "text/plain": [
       "                                                tracks\n",
       "0    [{'pos': 0, 'artist_name': 'Bob Marley & The W...\n",
       "1    [{'pos': 0, 'artist_name': 'Alice Boman', 'tra...\n",
       "2    [{'pos': 0, 'artist_name': 'Sleeping With Sire...\n",
       "3    [{'pos': 0, 'artist_name': 'Unk', 'track_uri':...\n",
       "4    [{'pos': 0, 'artist_name': 'Sean Kingston', 't...\n",
       "..                                                 ...\n",
       "995  [{'pos': 0, 'artist_name': 'Chris Tomlin', 'tr...\n",
       "996  [{'pos': 0, 'artist_name': 'John Mayer', 'trac...\n",
       "997  [{'pos': 0, 'artist_name': 'The All-American R...\n",
       "998  [{'pos': 0, 'artist_name': 'Bon Iver', 'track_...\n",
       "999  [{'pos': 0, 'artist_name': 'Hillsong United', ...\n",
       "\n",
       "[1000 rows x 1 columns]"
      ]
     },
     "execution_count": 62,
     "metadata": {},
     "output_type": "execute_result"
    }
   ],
   "source": [
    "DF"
   ]
  },
  {
   "cell_type": "markdown",
   "metadata": {},
   "source": [
    "The tracks information stored in dict"
   ]
  },
  {
   "cell_type": "code",
   "execution_count": 63,
   "metadata": {},
   "outputs": [
    {
     "data": {
      "text/plain": [
       "{'pos': 0,\n",
       " 'artist_name': 'Bob Marley & The Wailers',\n",
       " 'track_uri': 'spotify:track:1QQfbfMfyzNZhT5fg3RpuS',\n",
       " 'artist_uri': 'spotify:artist:2QsynagSdAqZj3U9HgDzjD',\n",
       " 'track_name': 'Buffalo Soldier',\n",
       " 'album_uri': 'spotify:album:1sXOM4wTy7TbTPdPz68YeF',\n",
       " 'duration_ms': 257440,\n",
       " 'album_name': 'Confrontation'}"
      ]
     },
     "execution_count": 63,
     "metadata": {},
     "output_type": "execute_result"
    }
   ],
   "source": [
    "DF.iloc[0][0][0]"
   ]
  },
  {
   "cell_type": "markdown",
   "metadata": {},
   "source": [
    "Extract relevant track information"
   ]
  },
  {
   "cell_type": "code",
   "execution_count": 64,
   "metadata": {},
   "outputs": [],
   "source": [
    "#Extract tracks from list\n",
    "tracks_list = []\n",
    "for tracks in DF['tracks']:\n",
    "     for track in tracks:\n",
    "        del track['pos'], track['album_uri'], track['duration_ms'], track['album_name']\n",
    "        tracks_list.append(track)"
   ]
  },
  {
   "cell_type": "code",
   "execution_count": 65,
   "metadata": {},
   "outputs": [
    {
     "data": {
      "text/plain": [
       "{'artist_name': 'Bob Marley & The Wailers',\n",
       " 'track_uri': 'spotify:track:1QQfbfMfyzNZhT5fg3RpuS',\n",
       " 'artist_uri': 'spotify:artist:2QsynagSdAqZj3U9HgDzjD',\n",
       " 'track_name': 'Buffalo Soldier'}"
      ]
     },
     "execution_count": 65,
     "metadata": {},
     "output_type": "execute_result"
    }
   ],
   "source": [
    "tracks_list[0]"
   ]
  },
  {
   "cell_type": "markdown",
   "metadata": {},
   "source": [
    "The number of songs that we are dealing with"
   ]
  },
  {
   "cell_type": "code",
   "execution_count": 66,
   "metadata": {},
   "outputs": [
    {
     "data": {
      "text/plain": [
       "66127"
      ]
     },
     "execution_count": 66,
     "metadata": {},
     "output_type": "execute_result"
    }
   ],
   "source": [
    "len(tracks_list)"
   ]
  },
  {
   "cell_type": "markdown",
   "metadata": {},
   "source": [
    "# Convert to Spark Dataframe"
   ]
  },
  {
   "cell_type": "code",
   "execution_count": 130,
   "metadata": {},
   "outputs": [],
   "source": [
    "tracks_RDD = ss.sparkContext.parallelize(tracks_list)"
   ]
  },
  {
   "cell_type": "markdown",
   "metadata": {},
   "source": [
    "Number of partitions we work"
   ]
  },
  {
   "cell_type": "code",
   "execution_count": 131,
   "metadata": {},
   "outputs": [
    {
     "data": {
      "text/plain": [
       "4"
      ]
     },
     "execution_count": 131,
     "metadata": {},
     "output_type": "execute_result"
    }
   ],
   "source": [
    "tracks_RDD.persist()\n",
    "tracks_RDD.getNumPartitions()"
   ]
  },
  {
   "cell_type": "code",
   "execution_count": 132,
   "metadata": {},
   "outputs": [],
   "source": [
    "columns= [\"artist_name\", \"track_uri\", \"artist_uri\",\"track_name\"]\n",
    "track_feature_SDF = ss.createDataFrame(data = track_features, schema = columns)"
   ]
  },
  {
   "cell_type": "code",
   "execution_count": 136,
   "metadata": {},
   "outputs": [],
   "source": [
    "track_feature_SDF = track_feature_SDF.distinct()"
   ]
  },
  {
   "cell_type": "code",
   "execution_count": 138,
   "metadata": {},
   "outputs": [],
   "source": [
    "tracks_list = track_feature_SDF.collect()"
   ]
  },
  {
   "cell_type": "code",
   "execution_count": null,
   "metadata": {},
   "outputs": [],
   "source": [
    "track_info = []\n",
    "for track in tracks_list:\n",
    "    audio_features = get_audio_features_spotifyApi(track['track_uri'].split(':')[2])\n",
    "    audio_features['track_name'] = track['track_name']\n",
    "    audio_features['artist_name'] = track['artist_name']\n",
    "    if audio_features is not None:\n",
    "        track_info.append(audio_features)\n",
    "tracks_df = pd.DataFrame(track_info)\n",
    "tracks_df_without_dup = track_df.drop_duplicates()\n",
    "tracks_df_without_dup.to_csv(\"spotify_dataset1.csv\")"
   ]
  },
  {
   "cell_type": "code",
   "execution_count": 15,
   "metadata": {},
   "outputs": [],
   "source": [
    "tracks_df.drop_duplicates().to_csv(\"spotify_dataset2.csv\")"
   ]
  }
 ],
 "metadata": {
  "kernelspec": {
   "display_name": "Python 3",
   "language": "python",
   "name": "python3"
  },
  "language_info": {
   "codemirror_mode": {
    "name": "ipython",
    "version": 3
   },
   "file_extension": ".py",
   "mimetype": "text/x-python",
   "name": "python",
   "nbconvert_exporter": "python",
   "pygments_lexer": "ipython3",
   "version": "3.8.3"
  }
 },
 "nbformat": 4,
 "nbformat_minor": 4
}
