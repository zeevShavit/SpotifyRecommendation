{
 "cells": [
  {
   "cell_type": "code",
   "execution_count": null,
   "metadata": {
    "id": "72olRlmYF7Ag"
   },
   "outputs": [],
   "source": [
    "from confluent_kafka import Consumer"
   ]
  },
  {
   "cell_type": "code",
   "execution_count": null,
   "metadata": {
    "id": "mKjVbaf8F7Ao"
   },
   "outputs": [],
   "source": [
    "conf = {'bootstrap.servers': \"localhost:9092\",\n",
    "        'group.id': \"result\",\n",
    "        'auto.offset.reset': 'smallest'}\n",
    "\n",
    "consumer = Consumer(conf)"
   ]
  },
  {
   "cell_type": "code",
   "execution_count": null,
   "metadata": {
    "id": "ApsHjl-rF7Ap",
    "outputId": "02dd9e40-61c2-4a1d-e735-025bd8d84dd2"
   },
   "outputs": [
    {
     "name": "stdout",
     "output_type": "stream",
     "text": [
      "enter here\n",
      "0\n"
     ]
    }
   ],
   "source": [
    "try:\n",
    "    consumer.subscribe(['recommend-result'])\n",
    "\n",
    "    while True:\n",
    "        msg = consumer.poll(timeout=1.0)\n",
    "        \n",
    "        if msg is None: \n",
    "            continue \n",
    "        else:\n",
    "            print(\"enter here\")\n",
    "            if msg.value().decode(\"utf-8\") == '0':\n",
    "                    print(msg.value().decode(\"utf-8\"))\n",
    "                    break\n",
    "            \n",
    "            msg_key = msg.key().decode(\"utf-8\").split(\",\")\n",
    "            msg_val = msg.value().decode(\"utf-8\")\n",
    "            print(f'track name {msg_key[1]} from batch{msg_key[0]} recommend: {msg_val} \\n')           \n",
    "finally:\n",
    "    consumer.close()"
   ]
  },
  {
   "cell_type": "code",
   "execution_count": null,
   "metadata": {
    "id": "V77Gz58MF7Aq"
   },
   "outputs": [],
   "source": []
  }
 ],
 "metadata": {
  "colab": {
   "name": "Consume_results.ipynb",
   "provenance": []
  },
  "kernelspec": {
   "display_name": "Python 3",
   "language": "python",
   "name": "python3"
  },
  "language_info": {
   "codemirror_mode": {
    "name": "ipython",
    "version": 3
   },
   "file_extension": ".py",
   "mimetype": "text/x-python",
   "name": "python",
   "nbconvert_exporter": "python",
   "pygments_lexer": "ipython3",
   "version": "3.7.3"
  }
 },
 "nbformat": 4,
 "nbformat_minor": 1
}
